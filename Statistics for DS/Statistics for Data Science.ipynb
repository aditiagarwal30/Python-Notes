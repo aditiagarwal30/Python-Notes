{
 "cells": [
  {
   "cell_type": "code",
   "execution_count": 1,
   "metadata": {},
   "outputs": [],
   "source": [
    "import pandas as pd"
   ]
  },
  {
   "cell_type": "code",
   "execution_count": 2,
   "metadata": {},
   "outputs": [],
   "source": [
    "df=pd.read_csv(\"C:\\\\Users\\\\devesh\\\\Desktop\\\\Git Repositories\\\\Python-Notes\\\\Pandas\\\\FL_insurance_sample.csv\")"
   ]
  },
  {
   "cell_type": "code",
   "execution_count": 3,
   "metadata": {},
   "outputs": [
    {
     "data": {
      "text/html": [
       "<div>\n",
       "<style scoped>\n",
       "    .dataframe tbody tr th:only-of-type {\n",
       "        vertical-align: middle;\n",
       "    }\n",
       "\n",
       "    .dataframe tbody tr th {\n",
       "        vertical-align: top;\n",
       "    }\n",
       "\n",
       "    .dataframe thead th {\n",
       "        text-align: right;\n",
       "    }\n",
       "</style>\n",
       "<table border=\"1\" class=\"dataframe\">\n",
       "  <thead>\n",
       "    <tr style=\"text-align: right;\">\n",
       "      <th></th>\n",
       "      <th>policyID</th>\n",
       "      <th>statecode</th>\n",
       "      <th>county</th>\n",
       "      <th>eq_site_limit</th>\n",
       "      <th>hu_site_limit</th>\n",
       "      <th>fl_site_limit</th>\n",
       "      <th>fr_site_limit</th>\n",
       "      <th>tiv_2011</th>\n",
       "      <th>tiv_2012</th>\n",
       "      <th>eq_site_deductible</th>\n",
       "      <th>hu_site_deductible</th>\n",
       "      <th>fl_site_deductible</th>\n",
       "      <th>fr_site_deductible</th>\n",
       "      <th>point_latitude</th>\n",
       "      <th>point_longitude</th>\n",
       "      <th>line</th>\n",
       "      <th>construction</th>\n",
       "      <th>point_granularity</th>\n",
       "    </tr>\n",
       "  </thead>\n",
       "  <tbody>\n",
       "    <tr>\n",
       "      <th>0</th>\n",
       "      <td>119736</td>\n",
       "      <td>FL</td>\n",
       "      <td>CLAY COUNTY</td>\n",
       "      <td>498960.0</td>\n",
       "      <td>498960.00</td>\n",
       "      <td>498960.0</td>\n",
       "      <td>498960.0</td>\n",
       "      <td>498960.00</td>\n",
       "      <td>792148.90</td>\n",
       "      <td>0.0</td>\n",
       "      <td>9979.2</td>\n",
       "      <td>0.0</td>\n",
       "      <td>0</td>\n",
       "      <td>30.102261</td>\n",
       "      <td>-81.711777</td>\n",
       "      <td>Residential</td>\n",
       "      <td>Masonry</td>\n",
       "      <td>1</td>\n",
       "    </tr>\n",
       "    <tr>\n",
       "      <th>1</th>\n",
       "      <td>448094</td>\n",
       "      <td>FL</td>\n",
       "      <td>CLAY COUNTY</td>\n",
       "      <td>1322376.3</td>\n",
       "      <td>1322376.30</td>\n",
       "      <td>1322376.3</td>\n",
       "      <td>1322376.3</td>\n",
       "      <td>1322376.30</td>\n",
       "      <td>1438163.57</td>\n",
       "      <td>0.0</td>\n",
       "      <td>0.0</td>\n",
       "      <td>0.0</td>\n",
       "      <td>0</td>\n",
       "      <td>30.063936</td>\n",
       "      <td>-81.707664</td>\n",
       "      <td>Residential</td>\n",
       "      <td>Masonry</td>\n",
       "      <td>3</td>\n",
       "    </tr>\n",
       "    <tr>\n",
       "      <th>2</th>\n",
       "      <td>206893</td>\n",
       "      <td>FL</td>\n",
       "      <td>CLAY COUNTY</td>\n",
       "      <td>190724.4</td>\n",
       "      <td>190724.40</td>\n",
       "      <td>190724.4</td>\n",
       "      <td>190724.4</td>\n",
       "      <td>190724.40</td>\n",
       "      <td>192476.78</td>\n",
       "      <td>0.0</td>\n",
       "      <td>0.0</td>\n",
       "      <td>0.0</td>\n",
       "      <td>0</td>\n",
       "      <td>30.089579</td>\n",
       "      <td>-81.700455</td>\n",
       "      <td>Residential</td>\n",
       "      <td>Wood</td>\n",
       "      <td>1</td>\n",
       "    </tr>\n",
       "    <tr>\n",
       "      <th>3</th>\n",
       "      <td>333743</td>\n",
       "      <td>FL</td>\n",
       "      <td>CLAY COUNTY</td>\n",
       "      <td>0.0</td>\n",
       "      <td>79520.76</td>\n",
       "      <td>0.0</td>\n",
       "      <td>0.0</td>\n",
       "      <td>79520.76</td>\n",
       "      <td>86854.48</td>\n",
       "      <td>0.0</td>\n",
       "      <td>0.0</td>\n",
       "      <td>0.0</td>\n",
       "      <td>0</td>\n",
       "      <td>30.063236</td>\n",
       "      <td>-81.707703</td>\n",
       "      <td>Residential</td>\n",
       "      <td>Wood</td>\n",
       "      <td>3</td>\n",
       "    </tr>\n",
       "    <tr>\n",
       "      <th>4</th>\n",
       "      <td>172534</td>\n",
       "      <td>FL</td>\n",
       "      <td>CLAY COUNTY</td>\n",
       "      <td>0.0</td>\n",
       "      <td>254281.50</td>\n",
       "      <td>0.0</td>\n",
       "      <td>254281.5</td>\n",
       "      <td>254281.50</td>\n",
       "      <td>246144.49</td>\n",
       "      <td>0.0</td>\n",
       "      <td>0.0</td>\n",
       "      <td>0.0</td>\n",
       "      <td>0</td>\n",
       "      <td>30.060614</td>\n",
       "      <td>-81.702675</td>\n",
       "      <td>Residential</td>\n",
       "      <td>Wood</td>\n",
       "      <td>1</td>\n",
       "    </tr>\n",
       "  </tbody>\n",
       "</table>\n",
       "</div>"
      ],
      "text/plain": [
       "   policyID statecode       county  eq_site_limit  hu_site_limit  \\\n",
       "0    119736        FL  CLAY COUNTY       498960.0      498960.00   \n",
       "1    448094        FL  CLAY COUNTY      1322376.3     1322376.30   \n",
       "2    206893        FL  CLAY COUNTY       190724.4      190724.40   \n",
       "3    333743        FL  CLAY COUNTY            0.0       79520.76   \n",
       "4    172534        FL  CLAY COUNTY            0.0      254281.50   \n",
       "\n",
       "   fl_site_limit  fr_site_limit    tiv_2011    tiv_2012  eq_site_deductible  \\\n",
       "0       498960.0       498960.0   498960.00   792148.90                 0.0   \n",
       "1      1322376.3      1322376.3  1322376.30  1438163.57                 0.0   \n",
       "2       190724.4       190724.4   190724.40   192476.78                 0.0   \n",
       "3            0.0            0.0    79520.76    86854.48                 0.0   \n",
       "4            0.0       254281.5   254281.50   246144.49                 0.0   \n",
       "\n",
       "   hu_site_deductible  fl_site_deductible  fr_site_deductible  point_latitude  \\\n",
       "0              9979.2                 0.0                   0       30.102261   \n",
       "1                 0.0                 0.0                   0       30.063936   \n",
       "2                 0.0                 0.0                   0       30.089579   \n",
       "3                 0.0                 0.0                   0       30.063236   \n",
       "4                 0.0                 0.0                   0       30.060614   \n",
       "\n",
       "   point_longitude         line construction  point_granularity  \n",
       "0       -81.711777  Residential      Masonry                  1  \n",
       "1       -81.707664  Residential      Masonry                  3  \n",
       "2       -81.700455  Residential         Wood                  1  \n",
       "3       -81.707703  Residential         Wood                  3  \n",
       "4       -81.702675  Residential         Wood                  1  "
      ]
     },
     "execution_count": 3,
     "metadata": {},
     "output_type": "execute_result"
    }
   ],
   "source": [
    "df.head()"
   ]
  },
  {
   "cell_type": "code",
   "execution_count": 4,
   "metadata": {},
   "outputs": [],
   "source": [
    "mode_data= df['construction'].mode()"
   ]
  },
  {
   "cell_type": "code",
   "execution_count": 5,
   "metadata": {},
   "outputs": [
    {
     "name": "stdout",
     "output_type": "stream",
     "text": [
      "0    Wood\n",
      "dtype: object\n"
     ]
    }
   ],
   "source": [
    "print(mode_data)"
   ]
  },
  {
   "cell_type": "code",
   "execution_count": 6,
   "metadata": {},
   "outputs": [],
   "source": [
    "mean_data= df['point_latitude'].mean()"
   ]
  },
  {
   "cell_type": "code",
   "execution_count": 7,
   "metadata": {},
   "outputs": [
    {
     "name": "stdout",
     "output_type": "stream",
     "text": [
      "28.087476512228815\n"
     ]
    }
   ],
   "source": [
    "print(mean_data)"
   ]
  },
  {
   "cell_type": "code",
   "execution_count": 8,
   "metadata": {},
   "outputs": [],
   "source": [
    "median= df['point_latitude'].median()"
   ]
  },
  {
   "cell_type": "code",
   "execution_count": 9,
   "metadata": {},
   "outputs": [
    {
     "name": "stdout",
     "output_type": "stream",
     "text": [
      "28.057077\n"
     ]
    }
   ],
   "source": [
    "print(median)"
   ]
  },
  {
   "cell_type": "code",
   "execution_count": 10,
   "metadata": {},
   "outputs": [],
   "source": [
    "# if there is an outlier in the data , median is an effective method of determining where the data entry went wrong."
   ]
  },
  {
   "cell_type": "code",
   "execution_count": 11,
   "metadata": {},
   "outputs": [],
   "source": [
    "# i am making a few changes in the above file to show how we can determine the presence of an outlier"
   ]
  },
  {
   "cell_type": "code",
   "execution_count": 12,
   "metadata": {},
   "outputs": [],
   "source": [
    "df1= pd.read_csv('C:\\\\Users\\\\devesh\\\\Desktop\\\\Git Repositories\\\\Python-Notes\\\\Statistics for DS\\\\sample.csv')"
   ]
  },
  {
   "cell_type": "code",
   "execution_count": 13,
   "metadata": {},
   "outputs": [
    {
     "data": {
      "text/html": [
       "<div>\n",
       "<style scoped>\n",
       "    .dataframe tbody tr th:only-of-type {\n",
       "        vertical-align: middle;\n",
       "    }\n",
       "\n",
       "    .dataframe tbody tr th {\n",
       "        vertical-align: top;\n",
       "    }\n",
       "\n",
       "    .dataframe thead th {\n",
       "        text-align: right;\n",
       "    }\n",
       "</style>\n",
       "<table border=\"1\" class=\"dataframe\">\n",
       "  <thead>\n",
       "    <tr style=\"text-align: right;\">\n",
       "      <th></th>\n",
       "      <th>policyID</th>\n",
       "      <th>statecode</th>\n",
       "      <th>county</th>\n",
       "      <th>eq_site_limit</th>\n",
       "      <th>hu_site_limit</th>\n",
       "      <th>fl_site_limit</th>\n",
       "      <th>fr_site_limit</th>\n",
       "      <th>tiv_2011</th>\n",
       "      <th>tiv_2012</th>\n",
       "      <th>eq_site_deductible</th>\n",
       "      <th>hu_site_deductible</th>\n",
       "      <th>fl_site_deductible</th>\n",
       "      <th>fr_site_deductible</th>\n",
       "      <th>point_latitude</th>\n",
       "      <th>point_longitude</th>\n",
       "      <th>line</th>\n",
       "      <th>construction</th>\n",
       "      <th>point_granularity</th>\n",
       "    </tr>\n",
       "  </thead>\n",
       "  <tbody>\n",
       "    <tr>\n",
       "      <th>36629</th>\n",
       "      <td>404309</td>\n",
       "      <td>FL</td>\n",
       "      <td>PINELLAS COUNTY</td>\n",
       "      <td>0.0</td>\n",
       "      <td>88722.0</td>\n",
       "      <td>0.0</td>\n",
       "      <td>88722.0</td>\n",
       "      <td>88722.0</td>\n",
       "      <td>155065.65</td>\n",
       "      <td>0.0</td>\n",
       "      <td>0.0</td>\n",
       "      <td>0.0</td>\n",
       "      <td>0</td>\n",
       "      <td>2.812288e+01</td>\n",
       "      <td>-82.770218</td>\n",
       "      <td>Residential</td>\n",
       "      <td>Wood</td>\n",
       "      <td>3</td>\n",
       "    </tr>\n",
       "    <tr>\n",
       "      <th>36630</th>\n",
       "      <td>465875</td>\n",
       "      <td>FL</td>\n",
       "      <td>PINELLAS COUNTY</td>\n",
       "      <td>1297057.5</td>\n",
       "      <td>1297057.5</td>\n",
       "      <td>1297057.5</td>\n",
       "      <td>1297057.5</td>\n",
       "      <td>1297057.5</td>\n",
       "      <td>1577500.79</td>\n",
       "      <td>0.0</td>\n",
       "      <td>0.0</td>\n",
       "      <td>0.0</td>\n",
       "      <td>0</td>\n",
       "      <td>2.808090e+01</td>\n",
       "      <td>-82.758800</td>\n",
       "      <td>Residential</td>\n",
       "      <td>Masonry</td>\n",
       "      <td>1</td>\n",
       "    </tr>\n",
       "    <tr>\n",
       "      <th>36631</th>\n",
       "      <td>791209</td>\n",
       "      <td>FL</td>\n",
       "      <td>PINELLAS COUNTY</td>\n",
       "      <td>173286.9</td>\n",
       "      <td>173286.9</td>\n",
       "      <td>0.0</td>\n",
       "      <td>0.0</td>\n",
       "      <td>173286.9</td>\n",
       "      <td>205527.97</td>\n",
       "      <td>0.0</td>\n",
       "      <td>0.0</td>\n",
       "      <td>0.0</td>\n",
       "      <td>0</td>\n",
       "      <td>2.811055e+01</td>\n",
       "      <td>-82.766360</td>\n",
       "      <td>Residential</td>\n",
       "      <td>Wood</td>\n",
       "      <td>4</td>\n",
       "    </tr>\n",
       "    <tr>\n",
       "      <th>36632</th>\n",
       "      <td>322627</td>\n",
       "      <td>FL</td>\n",
       "      <td>PINELLAS COUNTY</td>\n",
       "      <td>1499781.6</td>\n",
       "      <td>1499781.6</td>\n",
       "      <td>0.0</td>\n",
       "      <td>0.0</td>\n",
       "      <td>1499781.6</td>\n",
       "      <td>1768782.43</td>\n",
       "      <td>0.0</td>\n",
       "      <td>0.0</td>\n",
       "      <td>0.0</td>\n",
       "      <td>0</td>\n",
       "      <td>2.808942e+01</td>\n",
       "      <td>-82.697411</td>\n",
       "      <td>Residential</td>\n",
       "      <td>Masonry</td>\n",
       "      <td>3</td>\n",
       "    </tr>\n",
       "    <tr>\n",
       "      <th>36633</th>\n",
       "      <td>398149</td>\n",
       "      <td>FL</td>\n",
       "      <td>PINELLAS COUNTY</td>\n",
       "      <td>373488.3</td>\n",
       "      <td>373488.3</td>\n",
       "      <td>0.0</td>\n",
       "      <td>0.0</td>\n",
       "      <td>373488.3</td>\n",
       "      <td>596003.67</td>\n",
       "      <td>0.0</td>\n",
       "      <td>0.0</td>\n",
       "      <td>0.0</td>\n",
       "      <td>0</td>\n",
       "      <td>2.800000e+06</td>\n",
       "      <td>-82.774590</td>\n",
       "      <td>Residential</td>\n",
       "      <td>Masonry</td>\n",
       "      <td>1</td>\n",
       "    </tr>\n",
       "  </tbody>\n",
       "</table>\n",
       "</div>"
      ],
      "text/plain": [
       "       policyID statecode           county  eq_site_limit  hu_site_limit  \\\n",
       "36629    404309        FL  PINELLAS COUNTY            0.0        88722.0   \n",
       "36630    465875        FL  PINELLAS COUNTY      1297057.5      1297057.5   \n",
       "36631    791209        FL  PINELLAS COUNTY       173286.9       173286.9   \n",
       "36632    322627        FL  PINELLAS COUNTY      1499781.6      1499781.6   \n",
       "36633    398149        FL  PINELLAS COUNTY       373488.3       373488.3   \n",
       "\n",
       "       fl_site_limit  fr_site_limit   tiv_2011    tiv_2012  \\\n",
       "36629            0.0        88722.0    88722.0   155065.65   \n",
       "36630      1297057.5      1297057.5  1297057.5  1577500.79   \n",
       "36631            0.0            0.0   173286.9   205527.97   \n",
       "36632            0.0            0.0  1499781.6  1768782.43   \n",
       "36633            0.0            0.0   373488.3   596003.67   \n",
       "\n",
       "       eq_site_deductible  hu_site_deductible  fl_site_deductible  \\\n",
       "36629                 0.0                 0.0                 0.0   \n",
       "36630                 0.0                 0.0                 0.0   \n",
       "36631                 0.0                 0.0                 0.0   \n",
       "36632                 0.0                 0.0                 0.0   \n",
       "36633                 0.0                 0.0                 0.0   \n",
       "\n",
       "       fr_site_deductible  point_latitude  point_longitude         line  \\\n",
       "36629                   0    2.812288e+01       -82.770218  Residential   \n",
       "36630                   0    2.808090e+01       -82.758800  Residential   \n",
       "36631                   0    2.811055e+01       -82.766360  Residential   \n",
       "36632                   0    2.808942e+01       -82.697411  Residential   \n",
       "36633                   0    2.800000e+06       -82.774590  Residential   \n",
       "\n",
       "      construction  point_granularity  \n",
       "36629         Wood                  3  \n",
       "36630      Masonry                  1  \n",
       "36631         Wood                  4  \n",
       "36632      Masonry                  3  \n",
       "36633      Masonry                  1  "
      ]
     },
     "execution_count": 13,
     "metadata": {},
     "output_type": "execute_result"
    }
   ],
   "source": [
    "df1.tail()"
   ]
  },
  {
   "cell_type": "code",
   "execution_count": 14,
   "metadata": {},
   "outputs": [
    {
     "data": {
      "text/plain": [
       "104.51844052271089"
      ]
     },
     "execution_count": 14,
     "metadata": {},
     "output_type": "execute_result"
    }
   ],
   "source": [
    "df1['point_latitude'].mean()   #irregular mean"
   ]
  },
  {
   "cell_type": "code",
   "execution_count": 15,
   "metadata": {},
   "outputs": [
    {
     "data": {
      "text/plain": [
       "0    30.3349\n",
       "dtype: float64"
      ]
     },
     "execution_count": 15,
     "metadata": {},
     "output_type": "execute_result"
    }
   ],
   "source": [
    "df1['point_latitude'].mode()   # unaffected mode "
   ]
  },
  {
   "cell_type": "code",
   "execution_count": 16,
   "metadata": {},
   "outputs": [
    {
     "data": {
      "text/plain": [
       "28.057077"
      ]
     },
     "execution_count": 16,
     "metadata": {},
     "output_type": "execute_result"
    }
   ],
   "source": [
    "df1['point_latitude'].median()   #unaffected median because quantity is added at the last"
   ]
  },
  {
   "cell_type": "markdown",
   "metadata": {},
   "source": [
    "#### now we will calculate quartiles to determine the part where we put in the wrong value"
   ]
  },
  {
   "cell_type": "code",
   "execution_count": 17,
   "metadata": {},
   "outputs": [],
   "source": [
    "Q1= df1['point_latitude'].quantile(0.25)"
   ]
  },
  {
   "cell_type": "code",
   "execution_count": 18,
   "metadata": {},
   "outputs": [],
   "source": [
    "Q2= df1['point_latitude'].quantile(0.5)"
   ]
  },
  {
   "cell_type": "code",
   "execution_count": 19,
   "metadata": {},
   "outputs": [],
   "source": [
    "Q3= df1['point_latitude'].quantile(0.75)"
   ]
  },
  {
   "cell_type": "code",
   "execution_count": 20,
   "metadata": {},
   "outputs": [],
   "source": [
    "Q4= df1['point_latitude'].quantile(1)"
   ]
  },
  {
   "cell_type": "code",
   "execution_count": 21,
   "metadata": {},
   "outputs": [
    {
     "name": "stdout",
     "output_type": "stream",
     "text": [
      "1st Quartile 26.471996250000004\n",
      "2nd Quartile 28.057077\n",
      "3rd Quartile 29.623005\n",
      "----------------------\n",
      "4th Quartile 2800000.0\n"
     ]
    }
   ],
   "source": [
    "print('1st Quartile', Q1)\n",
    "print('2nd Quartile', Q2)\n",
    "print('3rd Quartile', Q3)\n",
    "print('----------------------')\n",
    "print('4th Quartile', Q4)"
   ]
  },
  {
   "cell_type": "markdown",
   "metadata": {},
   "source": [
    "#### here we can we that value of the last quartile is abnormal, thus there is the mistake"
   ]
  },
  {
   "cell_type": "markdown",
   "metadata": {},
   "source": [
    "## Range of the Original DF"
   ]
  },
  {
   "cell_type": "code",
   "execution_count": 22,
   "metadata": {},
   "outputs": [
    {
     "name": "stdout",
     "output_type": "stream",
     "text": [
      "6.4423059999999985\n"
     ]
    }
   ],
   "source": [
    "max_data1= df['point_latitude'].max()\n",
    "min_data1= df['point_latitude'].min()\n",
    "range_data= max_data1 - min_data1\n",
    "print(range_data)     #will come out abnormal"
   ]
  },
  {
   "cell_type": "markdown",
   "metadata": {},
   "source": [
    "## Range of the tampered DF"
   ]
  },
  {
   "cell_type": "code",
   "execution_count": 23,
   "metadata": {},
   "outputs": [
    {
     "name": "stdout",
     "output_type": "stream",
     "text": [
      "2799975.452486\n"
     ]
    }
   ],
   "source": [
    "max_data= df1['point_latitude'].max()\n",
    "min_data= df1['point_latitude'].min()\n",
    "range_data= max_data - min_data\n",
    "print(range_data)     #will come out abnormal"
   ]
  },
  {
   "cell_type": "markdown",
   "metadata": {},
   "source": [
    "## Calculating IQR for Tampered DF"
   ]
  },
  {
   "cell_type": "code",
   "execution_count": 24,
   "metadata": {},
   "outputs": [],
   "source": [
    "Q1= df1['point_latitude'].quantile(0.25)\n",
    "Q3= df1['point_latitude'].quantile(0.75)"
   ]
  },
  {
   "cell_type": "code",
   "execution_count": 25,
   "metadata": {},
   "outputs": [],
   "source": [
    "IQR= Q3 -Q1"
   ]
  },
  {
   "cell_type": "code",
   "execution_count": 26,
   "metadata": {},
   "outputs": [
    {
     "name": "stdout",
     "output_type": "stream",
     "text": [
      "3.1510087499999955\n"
     ]
    }
   ],
   "source": [
    "print(IQR)"
   ]
  },
  {
   "cell_type": "code",
   "execution_count": 27,
   "metadata": {},
   "outputs": [],
   "source": [
    "# Range and IQR are somewhat comparable now"
   ]
  },
  {
   "cell_type": "markdown",
   "metadata": {},
   "source": [
    "## Calculating the variance"
   ]
  },
  {
   "cell_type": "code",
   "execution_count": 28,
   "metadata": {},
   "outputs": [],
   "source": [
    "# calculate mean\n",
    "# calculate the distance of mean from each element \n",
    "# square those distances\n",
    "# take average of the squared values"
   ]
  },
  {
   "cell_type": "code",
   "execution_count": 29,
   "metadata": {},
   "outputs": [],
   "source": [
    " mean = df1['point_latitude'].mean()"
   ]
  },
  {
   "cell_type": "code",
   "execution_count": 30,
   "metadata": {},
   "outputs": [],
   "source": [
    "difference = df1['point_latitude'] - mean  # subtracting mean from the list of point_latitude"
   ]
  },
  {
   "cell_type": "code",
   "execution_count": 31,
   "metadata": {},
   "outputs": [],
   "source": [
    "squared_diff= difference**2"
   ]
  },
  {
   "cell_type": "code",
   "execution_count": 32,
   "metadata": {},
   "outputs": [],
   "source": [
    "variance= squared_diff.mean()"
   ]
  },
  {
   "cell_type": "code",
   "execution_count": 33,
   "metadata": {},
   "outputs": [
    {
     "name": "stdout",
     "output_type": "stream",
     "text": [
      "213998711.73843446\n"
     ]
    }
   ],
   "source": [
    "print(variance)"
   ]
  },
  {
   "cell_type": "code",
   "execution_count": 34,
   "metadata": {},
   "outputs": [],
   "source": [
    "SD= variance**(1/2)"
   ]
  },
  {
   "cell_type": "code",
   "execution_count": 35,
   "metadata": {},
   "outputs": [
    {
     "name": "stdout",
     "output_type": "stream",
     "text": [
      "14628.6948063877\n"
     ]
    }
   ],
   "source": [
    "print(SD)"
   ]
  },
  {
   "cell_type": "code",
   "execution_count": 36,
   "metadata": {},
   "outputs": [],
   "source": [
    "# calculating varianve using function"
   ]
  },
  {
   "cell_type": "code",
   "execution_count": 37,
   "metadata": {},
   "outputs": [],
   "source": [
    "variance1= df1['point_latitude'].var(ddof=0)"
   ]
  },
  {
   "cell_type": "code",
   "execution_count": 38,
   "metadata": {},
   "outputs": [
    {
     "name": "stdout",
     "output_type": "stream",
     "text": [
      "213998711.73843446\n"
     ]
    }
   ],
   "source": [
    "print(variance1)"
   ]
  },
  {
   "cell_type": "code",
   "execution_count": 39,
   "metadata": {},
   "outputs": [],
   "source": [
    "SD1=variance1**(1/2)"
   ]
  },
  {
   "cell_type": "code",
   "execution_count": 40,
   "metadata": {},
   "outputs": [
    {
     "name": "stdout",
     "output_type": "stream",
     "text": [
      "14628.6948063877\n"
     ]
    }
   ],
   "source": [
    "print(SD1)"
   ]
  },
  {
   "cell_type": "markdown",
   "metadata": {},
   "source": [
    "# frequency table"
   ]
  },
  {
   "cell_type": "code",
   "execution_count": 41,
   "metadata": {},
   "outputs": [],
   "source": [
    "freq_table= df['county'].value_counts()"
   ]
  },
  {
   "cell_type": "code",
   "execution_count": 42,
   "metadata": {},
   "outputs": [
    {
     "name": "stdout",
     "output_type": "stream",
     "text": [
      "MIAMI DADE COUNTY    4315\n",
      "BROWARD COUNTY       3193\n",
      "PALM BEACH COUNTY    2791\n",
      "DUVAL COUNTY         1894\n",
      "ORANGE COUNTY        1811\n",
      "                     ... \n",
      "GLADES COUNTY          22\n",
      "UNION COUNTY           15\n",
      "North Fort Myers        1\n",
      "OSCEOLA COUNTY          1\n",
      "Orlando                 1\n",
      "Name: county, Length: 67, dtype: int64\n"
     ]
    }
   ],
   "source": [
    "print(freq_table)"
   ]
  },
  {
   "cell_type": "code",
   "execution_count": 43,
   "metadata": {},
   "outputs": [
    {
     "name": "stdout",
     "output_type": "stream",
     "text": [
      "1    26569\n",
      "3     6724\n",
      "4     3337\n",
      "7        2\n",
      "5        2\n",
      "Name: point_granularity, dtype: int64\n"
     ]
    }
   ],
   "source": [
    "freq_table1= df['point_granularity'].value_counts()\n",
    "print(freq_table1)"
   ]
  },
  {
   "cell_type": "markdown",
   "metadata": {},
   "source": [
    "## Histograms\n",
    "\n",
    "##### using matplotlib "
   ]
  },
  {
   "cell_type": "code",
   "execution_count": 38,
   "metadata": {},
   "outputs": [],
   "source": [
    "import matplotlib.pyplot as plt\n",
    "%matplotlib inline"
   ]
  },
  {
   "cell_type": "code",
   "execution_count": 45,
   "metadata": {},
   "outputs": [
    {
     "data": {
      "image/png": "[encoded data removed]",
      "text/plain": [
       "<Figure size 432x288 with 1 Axes>"
      ]
     },
     "metadata": {
      "needs_background": "light"
     },
     "output_type": "display_data"
    }
   ],
   "source": [
    "plt.hist(x='point_granularity', data=df)\n",
    "plt.show()"
   ]
  },
  {
   "cell_type": "code",
   "execution_count": 46,
   "metadata": {},
   "outputs": [
    {
     "data": {
      "image/png": "[encoded data removed]",
      "text/plain": [
       "<Figure size 432x288 with 1 Axes>"
      ]
     },
     "metadata": {
      "needs_background": "light"
     },
     "output_type": "display_data"
    }
   ],
   "source": [
    "plt.hist(x='point_latitude', data=df)\n",
    "plt.show()"
   ]
  },
  {
   "cell_type": "code",
   "execution_count": 47,
   "metadata": {},
   "outputs": [
    {
     "data": {
      "image/png": "[encoded data removed]",
      "text/plain": [
       "<Figure size 432x288 with 1 Axes>"
      ]
     },
     "metadata": {
      "needs_background": "light"
     },
     "output_type": "display_data"
    }
   ],
   "source": [
    "plt.hist(x='point_latitude', data=df,bins=5)\n",
    "plt.show()"
   ]
  },
  {
   "cell_type": "code",
   "execution_count": 15,
   "metadata": {},
   "outputs": [],
   "source": [
    "from scipy.stats import ttest_1samp"
   ]
  },
  {
   "cell_type": "code",
   "execution_count": 16,
   "metadata": {},
   "outputs": [],
   "source": [
    "t_statistic, p_value= ttest_1samp(df['point_latitude'],28)"
   ]
  },
  {
   "cell_type": "code",
   "execution_count": 17,
   "metadata": {},
   "outputs": [
    {
     "data": {
      "text/plain": [
       "3.1799906152680854e-24"
      ]
     },
     "execution_count": 17,
     "metadata": {},
     "output_type": "execute_result"
    }
   ],
   "source": [
    "p_value"
   ]
  },
  {
   "cell_type": "markdown",
   "metadata": {},
   "source": [
    " #### A p-value less than 0.05 (typically ≤ 0.05) is statistically significant. It indicates strong evidence against the null hypothesis, as there is less than a 5% probability the null is correct (and the results are random). Therefore, we reject the null hypothesis, and accept the alternative hypothesis."
   ]
  },
  {
   "cell_type": "code",
   "execution_count": 19,
   "metadata": {},
   "outputs": [],
   "source": [
    "from scipy import stats"
   ]
  },
  {
   "cell_type": "code",
   "execution_count": 20,
   "metadata": {},
   "outputs": [],
   "source": [
    " from scipy.stats import ttest_rel"
   ]
  },
  {
   "cell_type": "code",
   "execution_count": 24,
   "metadata": {},
   "outputs": [],
   "source": [
    "# there is no use of paired t test here, this is just a random rxample\n",
    "t_statistic, p_value = stats.ttest_rel(df['point_latitude'],df['point_longitude'])"
   ]
  },
  {
   "cell_type": "code",
   "execution_count": 25,
   "metadata": {},
   "outputs": [
    {
     "data": {
      "text/plain": [
       "0.0"
      ]
     },
     "execution_count": 25,
     "metadata": {},
     "output_type": "execute_result"
    }
   ],
   "source": [
    "p_value"
   ]
  },
  {
   "cell_type": "code",
   "execution_count": 26,
   "metadata": {},
   "outputs": [],
   "source": [
    "## p value less than 0.05, thus we will reject the null hypothesis"
   ]
  },
  {
   "cell_type": "code",
   "execution_count": 27,
   "metadata": {},
   "outputs": [],
   "source": [
    "from scipy.stats import chisquare"
   ]
  },
  {
   "cell_type": "code",
   "execution_count": 30,
   "metadata": {},
   "outputs": [],
   "source": [
    " df2= pd.read_csv(\"C:\\\\Users\\\\devesh\\\\Desktop\\\\Git Repositories\\\\Python-Notes\\\\Statistics for DS\\\\Book1.csv\")"
   ]
  },
  {
   "cell_type": "code",
   "execution_count": 31,
   "metadata": {},
   "outputs": [
    {
     "data": {
      "text/html": [
       "<div>\n",
       "<style scoped>\n",
       "    .dataframe tbody tr th:only-of-type {\n",
       "        vertical-align: middle;\n",
       "    }\n",
       "\n",
       "    .dataframe tbody tr th {\n",
       "        vertical-align: top;\n",
       "    }\n",
       "\n",
       "    .dataframe thead th {\n",
       "        text-align: right;\n",
       "    }\n",
       "</style>\n",
       "<table border=\"1\" class=\"dataframe\">\n",
       "  <thead>\n",
       "    <tr style=\"text-align: right;\">\n",
       "      <th></th>\n",
       "      <th>Event</th>\n",
       "      <th>Observed</th>\n",
       "      <th>Expected</th>\n",
       "    </tr>\n",
       "  </thead>\n",
       "  <tbody>\n",
       "    <tr>\n",
       "      <th>0</th>\n",
       "      <td>Successful</td>\n",
       "      <td>41</td>\n",
       "      <td>33</td>\n",
       "    </tr>\n",
       "    <tr>\n",
       "      <th>1</th>\n",
       "      <td>Unsuccessful</td>\n",
       "      <td>59</td>\n",
       "      <td>67</td>\n",
       "    </tr>\n",
       "  </tbody>\n",
       "</table>\n",
       "</div>"
      ],
      "text/plain": [
       "         Event   Observed  Expected\n",
       "0    Successful        41        33\n",
       "1  Unsuccessful        59        67"
      ]
     },
     "execution_count": 31,
     "metadata": {},
     "output_type": "execute_result"
    }
   ],
   "source": [
    "df2.head()"
   ]
  },
  {
   "cell_type": "code",
   "execution_count": 32,
   "metadata": {},
   "outputs": [],
   "source": [
    "# calculating the t statistics and p-value for chi square test\n",
    "t_statistic, p_value= chisquare(f_obs=df2['Observed'],f_exp=df2['Expected'])"
   ]
  },
  {
   "cell_type": "code",
   "execution_count": 33,
   "metadata": {},
   "outputs": [
    {
     "data": {
      "text/plain": [
       "0.08887585044058065"
      ]
     },
     "execution_count": 33,
     "metadata": {},
     "output_type": "execute_result"
    }
   ],
   "source": [
    "p_value"
   ]
  },
  {
   "cell_type": "markdown",
   "metadata": {},
   "source": [
    "here the p value is greater than 0.05 thus we fail to reject the null hypothesis. Thus the observed and Expected Frequencies have no significant difference."
   ]
  },
  {
   "cell_type": "code",
   "execution_count": 34,
   "metadata": {},
   "outputs": [
    {
     "data": {
      "text/html": [
       "<div>\n",
       "<style scoped>\n",
       "    .dataframe tbody tr th:only-of-type {\n",
       "        vertical-align: middle;\n",
       "    }\n",
       "\n",
       "    .dataframe tbody tr th {\n",
       "        vertical-align: top;\n",
       "    }\n",
       "\n",
       "    .dataframe thead th {\n",
       "        text-align: right;\n",
       "    }\n",
       "</style>\n",
       "<table border=\"1\" class=\"dataframe\">\n",
       "  <thead>\n",
       "    <tr style=\"text-align: right;\">\n",
       "      <th></th>\n",
       "      <th>policyID</th>\n",
       "      <th>statecode</th>\n",
       "      <th>county</th>\n",
       "      <th>eq_site_limit</th>\n",
       "      <th>hu_site_limit</th>\n",
       "      <th>fl_site_limit</th>\n",
       "      <th>fr_site_limit</th>\n",
       "      <th>tiv_2011</th>\n",
       "      <th>tiv_2012</th>\n",
       "      <th>eq_site_deductible</th>\n",
       "      <th>hu_site_deductible</th>\n",
       "      <th>fl_site_deductible</th>\n",
       "      <th>fr_site_deductible</th>\n",
       "      <th>point_latitude</th>\n",
       "      <th>point_longitude</th>\n",
       "      <th>line</th>\n",
       "      <th>construction</th>\n",
       "      <th>point_granularity</th>\n",
       "    </tr>\n",
       "  </thead>\n",
       "  <tbody>\n",
       "    <tr>\n",
       "      <th>0</th>\n",
       "      <td>119736</td>\n",
       "      <td>FL</td>\n",
       "      <td>CLAY COUNTY</td>\n",
       "      <td>498960.0</td>\n",
       "      <td>498960.00</td>\n",
       "      <td>498960.0</td>\n",
       "      <td>498960.0</td>\n",
       "      <td>498960.00</td>\n",
       "      <td>792148.90</td>\n",
       "      <td>0.0</td>\n",
       "      <td>9979.2</td>\n",
       "      <td>0.0</td>\n",
       "      <td>0</td>\n",
       "      <td>30.102261</td>\n",
       "      <td>-81.711777</td>\n",
       "      <td>Residential</td>\n",
       "      <td>Masonry</td>\n",
       "      <td>1</td>\n",
       "    </tr>\n",
       "    <tr>\n",
       "      <th>1</th>\n",
       "      <td>448094</td>\n",
       "      <td>FL</td>\n",
       "      <td>CLAY COUNTY</td>\n",
       "      <td>1322376.3</td>\n",
       "      <td>1322376.30</td>\n",
       "      <td>1322376.3</td>\n",
       "      <td>1322376.3</td>\n",
       "      <td>1322376.30</td>\n",
       "      <td>1438163.57</td>\n",
       "      <td>0.0</td>\n",
       "      <td>0.0</td>\n",
       "      <td>0.0</td>\n",
       "      <td>0</td>\n",
       "      <td>30.063936</td>\n",
       "      <td>-81.707664</td>\n",
       "      <td>Residential</td>\n",
       "      <td>Masonry</td>\n",
       "      <td>3</td>\n",
       "    </tr>\n",
       "    <tr>\n",
       "      <th>2</th>\n",
       "      <td>206893</td>\n",
       "      <td>FL</td>\n",
       "      <td>CLAY COUNTY</td>\n",
       "      <td>190724.4</td>\n",
       "      <td>190724.40</td>\n",
       "      <td>190724.4</td>\n",
       "      <td>190724.4</td>\n",
       "      <td>190724.40</td>\n",
       "      <td>192476.78</td>\n",
       "      <td>0.0</td>\n",
       "      <td>0.0</td>\n",
       "      <td>0.0</td>\n",
       "      <td>0</td>\n",
       "      <td>30.089579</td>\n",
       "      <td>-81.700455</td>\n",
       "      <td>Residential</td>\n",
       "      <td>Wood</td>\n",
       "      <td>1</td>\n",
       "    </tr>\n",
       "    <tr>\n",
       "      <th>3</th>\n",
       "      <td>333743</td>\n",
       "      <td>FL</td>\n",
       "      <td>CLAY COUNTY</td>\n",
       "      <td>0.0</td>\n",
       "      <td>79520.76</td>\n",
       "      <td>0.0</td>\n",
       "      <td>0.0</td>\n",
       "      <td>79520.76</td>\n",
       "      <td>86854.48</td>\n",
       "      <td>0.0</td>\n",
       "      <td>0.0</td>\n",
       "      <td>0.0</td>\n",
       "      <td>0</td>\n",
       "      <td>30.063236</td>\n",
       "      <td>-81.707703</td>\n",
       "      <td>Residential</td>\n",
       "      <td>Wood</td>\n",
       "      <td>3</td>\n",
       "    </tr>\n",
       "    <tr>\n",
       "      <th>4</th>\n",
       "      <td>172534</td>\n",
       "      <td>FL</td>\n",
       "      <td>CLAY COUNTY</td>\n",
       "      <td>0.0</td>\n",
       "      <td>254281.50</td>\n",
       "      <td>0.0</td>\n",
       "      <td>254281.5</td>\n",
       "      <td>254281.50</td>\n",
       "      <td>246144.49</td>\n",
       "      <td>0.0</td>\n",
       "      <td>0.0</td>\n",
       "      <td>0.0</td>\n",
       "      <td>0</td>\n",
       "      <td>30.060614</td>\n",
       "      <td>-81.702675</td>\n",
       "      <td>Residential</td>\n",
       "      <td>Wood</td>\n",
       "      <td>1</td>\n",
       "    </tr>\n",
       "  </tbody>\n",
       "</table>\n",
       "</div>"
      ],
      "text/plain": [
       "   policyID statecode       county  eq_site_limit  hu_site_limit  \\\n",
       "0    119736        FL  CLAY COUNTY       498960.0      498960.00   \n",
       "1    448094        FL  CLAY COUNTY      1322376.3     1322376.30   \n",
       "2    206893        FL  CLAY COUNTY       190724.4      190724.40   \n",
       "3    333743        FL  CLAY COUNTY            0.0       79520.76   \n",
       "4    172534        FL  CLAY COUNTY            0.0      254281.50   \n",
       "\n",
       "   fl_site_limit  fr_site_limit    tiv_2011    tiv_2012  eq_site_deductible  \\\n",
       "0       498960.0       498960.0   498960.00   792148.90                 0.0   \n",
       "1      1322376.3      1322376.3  1322376.30  1438163.57                 0.0   \n",
       "2       190724.4       190724.4   190724.40   192476.78                 0.0   \n",
       "3            0.0            0.0    79520.76    86854.48                 0.0   \n",
       "4            0.0       254281.5   254281.50   246144.49                 0.0   \n",
       "\n",
       "   hu_site_deductible  fl_site_deductible  fr_site_deductible  point_latitude  \\\n",
       "0              9979.2                 0.0                   0       30.102261   \n",
       "1                 0.0                 0.0                   0       30.063936   \n",
       "2                 0.0                 0.0                   0       30.089579   \n",
       "3                 0.0                 0.0                   0       30.063236   \n",
       "4                 0.0                 0.0                   0       30.060614   \n",
       "\n",
       "   point_longitude         line construction  point_granularity  \n",
       "0       -81.711777  Residential      Masonry                  1  \n",
       "1       -81.707664  Residential      Masonry                  3  \n",
       "2       -81.700455  Residential         Wood                  1  \n",
       "3       -81.707703  Residential         Wood                  3  \n",
       "4       -81.702675  Residential         Wood                  1  "
      ]
     },
     "execution_count": 34,
     "metadata": {},
     "output_type": "execute_result"
    }
   ],
   "source": [
    "df.head()"
   ]
  },
  {
   "cell_type": "code",
   "execution_count": 36,
   "metadata": {},
   "outputs": [
    {
     "data": {
      "text/html": [
       "<div>\n",
       "<style scoped>\n",
       "    .dataframe tbody tr th:only-of-type {\n",
       "        vertical-align: middle;\n",
       "    }\n",
       "\n",
       "    .dataframe tbody tr th {\n",
       "        vertical-align: top;\n",
       "    }\n",
       "\n",
       "    .dataframe thead th {\n",
       "        text-align: right;\n",
       "    }\n",
       "</style>\n",
       "<table border=\"1\" class=\"dataframe\">\n",
       "  <thead>\n",
       "    <tr style=\"text-align: right;\">\n",
       "      <th></th>\n",
       "      <th>point_latitude</th>\n",
       "      <th>point_longitude</th>\n",
       "    </tr>\n",
       "  </thead>\n",
       "  <tbody>\n",
       "    <tr>\n",
       "      <th>point_latitude</th>\n",
       "      <td>1.000000</td>\n",
       "      <td>-0.708585</td>\n",
       "    </tr>\n",
       "    <tr>\n",
       "      <th>point_longitude</th>\n",
       "      <td>-0.708585</td>\n",
       "      <td>1.000000</td>\n",
       "    </tr>\n",
       "  </tbody>\n",
       "</table>\n",
       "</div>"
      ],
      "text/plain": [
       "                 point_latitude  point_longitude\n",
       "point_latitude         1.000000        -0.708585\n",
       "point_longitude       -0.708585         1.000000"
      ]
     },
     "execution_count": 36,
     "metadata": {},
     "output_type": "execute_result"
    }
   ],
   "source": [
    "# corelation between point_longitude and point_latitude\n",
    "df[['point_latitude','point_longitude']].corr()"
   ]
  },
  {
   "cell_type": "code",
   "execution_count": 37,
   "metadata": {},
   "outputs": [
    {
     "data": {
      "text/html": [
       "<div>\n",
       "<style scoped>\n",
       "    .dataframe tbody tr th:only-of-type {\n",
       "        vertical-align: middle;\n",
       "    }\n",
       "\n",
       "    .dataframe tbody tr th {\n",
       "        vertical-align: top;\n",
       "    }\n",
       "\n",
       "    .dataframe thead th {\n",
       "        text-align: right;\n",
       "    }\n",
       "</style>\n",
       "<table border=\"1\" class=\"dataframe\">\n",
       "  <thead>\n",
       "    <tr style=\"text-align: right;\">\n",
       "      <th></th>\n",
       "      <th>point_latitude</th>\n",
       "      <th>point_granularity</th>\n",
       "    </tr>\n",
       "  </thead>\n",
       "  <tbody>\n",
       "    <tr>\n",
       "      <th>point_latitude</th>\n",
       "      <td>1.000000</td>\n",
       "      <td>0.084803</td>\n",
       "    </tr>\n",
       "    <tr>\n",
       "      <th>point_granularity</th>\n",
       "      <td>0.084803</td>\n",
       "      <td>1.000000</td>\n",
       "    </tr>\n",
       "  </tbody>\n",
       "</table>\n",
       "</div>"
      ],
      "text/plain": [
       "                   point_latitude  point_granularity\n",
       "point_latitude           1.000000           0.084803\n",
       "point_granularity        0.084803           1.000000"
      ]
     },
     "execution_count": 37,
     "metadata": {},
     "output_type": "execute_result"
    }
   ],
   "source": [
    "# corelation between point_longitude and point_granularity\n",
    "df[['point_latitude','point_granularity']].corr()"
   ]
  },
  {
   "cell_type": "code",
   "execution_count": 39,
   "metadata": {},
   "outputs": [],
   "source": [
    "import matplotlib.pyplot as plt\n",
    "%matplotlib inline\n",
    "import seaborn as sns"
   ]
  },
  {
   "cell_type": "code",
   "execution_count": 40,
   "metadata": {},
   "outputs": [
    {
     "data": {
      "text/html": [
       "<div>\n",
       "<style scoped>\n",
       "    .dataframe tbody tr th:only-of-type {\n",
       "        vertical-align: middle;\n",
       "    }\n",
       "\n",
       "    .dataframe tbody tr th {\n",
       "        vertical-align: top;\n",
       "    }\n",
       "\n",
       "    .dataframe thead th {\n",
       "        text-align: right;\n",
       "    }\n",
       "</style>\n",
       "<table border=\"1\" class=\"dataframe\">\n",
       "  <thead>\n",
       "    <tr style=\"text-align: right;\">\n",
       "      <th></th>\n",
       "      <th>policyID</th>\n",
       "      <th>eq_site_limit</th>\n",
       "      <th>hu_site_limit</th>\n",
       "      <th>fl_site_limit</th>\n",
       "      <th>fr_site_limit</th>\n",
       "      <th>tiv_2011</th>\n",
       "      <th>tiv_2012</th>\n",
       "      <th>eq_site_deductible</th>\n",
       "      <th>hu_site_deductible</th>\n",
       "      <th>fl_site_deductible</th>\n",
       "      <th>fr_site_deductible</th>\n",
       "      <th>point_latitude</th>\n",
       "      <th>point_longitude</th>\n",
       "      <th>point_granularity</th>\n",
       "    </tr>\n",
       "  </thead>\n",
       "  <tbody>\n",
       "    <tr>\n",
       "      <th>policyID</th>\n",
       "      <td>1.000000</td>\n",
       "      <td>-0.005278</td>\n",
       "      <td>-0.010772</td>\n",
       "      <td>-0.005034</td>\n",
       "      <td>-0.005077</td>\n",
       "      <td>-0.010144</td>\n",
       "      <td>-0.009881</td>\n",
       "      <td>0.011715</td>\n",
       "      <td>0.013628</td>\n",
       "      <td>0.002900</td>\n",
       "      <td>-0.001846</td>\n",
       "      <td>-0.003114</td>\n",
       "      <td>0.003450</td>\n",
       "      <td>0.007255</td>\n",
       "    </tr>\n",
       "    <tr>\n",
       "      <th>eq_site_limit</th>\n",
       "      <td>-0.005278</td>\n",
       "      <td>1.000000</td>\n",
       "      <td>0.888743</td>\n",
       "      <td>0.983463</td>\n",
       "      <td>0.973441</td>\n",
       "      <td>0.866644</td>\n",
       "      <td>0.786223</td>\n",
       "      <td>0.060976</td>\n",
       "      <td>0.073104</td>\n",
       "      <td>0.000281</td>\n",
       "      <td>-0.000235</td>\n",
       "      <td>-0.001993</td>\n",
       "      <td>0.005551</td>\n",
       "      <td>0.007615</td>\n",
       "    </tr>\n",
       "    <tr>\n",
       "      <th>hu_site_limit</th>\n",
       "      <td>-0.010772</td>\n",
       "      <td>0.888743</td>\n",
       "      <td>1.000000</td>\n",
       "      <td>0.883024</td>\n",
       "      <td>0.889365</td>\n",
       "      <td>0.975598</td>\n",
       "      <td>0.941141</td>\n",
       "      <td>0.053287</td>\n",
       "      <td>0.099763</td>\n",
       "      <td>0.007471</td>\n",
       "      <td>0.000197</td>\n",
       "      <td>-0.024579</td>\n",
       "      <td>0.023827</td>\n",
       "      <td>0.003154</td>\n",
       "    </tr>\n",
       "    <tr>\n",
       "      <th>fl_site_limit</th>\n",
       "      <td>-0.005034</td>\n",
       "      <td>0.983463</td>\n",
       "      <td>0.883024</td>\n",
       "      <td>1.000000</td>\n",
       "      <td>0.985513</td>\n",
       "      <td>0.863712</td>\n",
       "      <td>0.779331</td>\n",
       "      <td>0.050601</td>\n",
       "      <td>0.054018</td>\n",
       "      <td>0.000446</td>\n",
       "      <td>-0.000214</td>\n",
       "      <td>-0.001327</td>\n",
       "      <td>0.006361</td>\n",
       "      <td>0.009814</td>\n",
       "    </tr>\n",
       "    <tr>\n",
       "      <th>fr_site_limit</th>\n",
       "      <td>-0.005077</td>\n",
       "      <td>0.973441</td>\n",
       "      <td>0.889365</td>\n",
       "      <td>0.985513</td>\n",
       "      <td>1.000000</td>\n",
       "      <td>0.873725</td>\n",
       "      <td>0.794160</td>\n",
       "      <td>0.049698</td>\n",
       "      <td>0.082239</td>\n",
       "      <td>-0.000050</td>\n",
       "      <td>0.000570</td>\n",
       "      <td>-0.008160</td>\n",
       "      <td>0.012174</td>\n",
       "      <td>0.007351</td>\n",
       "    </tr>\n",
       "    <tr>\n",
       "      <th>tiv_2011</th>\n",
       "      <td>-0.010144</td>\n",
       "      <td>0.866644</td>\n",
       "      <td>0.975598</td>\n",
       "      <td>0.863712</td>\n",
       "      <td>0.873725</td>\n",
       "      <td>1.000000</td>\n",
       "      <td>0.973050</td>\n",
       "      <td>0.051863</td>\n",
       "      <td>0.097008</td>\n",
       "      <td>0.007217</td>\n",
       "      <td>0.000170</td>\n",
       "      <td>-0.023168</td>\n",
       "      <td>0.023830</td>\n",
       "      <td>0.002521</td>\n",
       "    </tr>\n",
       "    <tr>\n",
       "      <th>tiv_2012</th>\n",
       "      <td>-0.009881</td>\n",
       "      <td>0.786223</td>\n",
       "      <td>0.941141</td>\n",
       "      <td>0.779331</td>\n",
       "      <td>0.794160</td>\n",
       "      <td>0.973050</td>\n",
       "      <td>1.000000</td>\n",
       "      <td>0.065442</td>\n",
       "      <td>0.106189</td>\n",
       "      <td>0.011547</td>\n",
       "      <td>0.000335</td>\n",
       "      <td>-0.028938</td>\n",
       "      <td>0.028259</td>\n",
       "      <td>-0.000905</td>\n",
       "    </tr>\n",
       "    <tr>\n",
       "      <th>eq_site_deductible</th>\n",
       "      <td>0.011715</td>\n",
       "      <td>0.060976</td>\n",
       "      <td>0.053287</td>\n",
       "      <td>0.050601</td>\n",
       "      <td>0.049698</td>\n",
       "      <td>0.051863</td>\n",
       "      <td>0.065442</td>\n",
       "      <td>1.000000</td>\n",
       "      <td>0.501951</td>\n",
       "      <td>-0.000389</td>\n",
       "      <td>-0.000092</td>\n",
       "      <td>0.016045</td>\n",
       "      <td>0.002621</td>\n",
       "      <td>-0.002699</td>\n",
       "    </tr>\n",
       "    <tr>\n",
       "      <th>hu_site_deductible</th>\n",
       "      <td>0.013628</td>\n",
       "      <td>0.073104</td>\n",
       "      <td>0.099763</td>\n",
       "      <td>0.054018</td>\n",
       "      <td>0.082239</td>\n",
       "      <td>0.097008</td>\n",
       "      <td>0.106189</td>\n",
       "      <td>0.501951</td>\n",
       "      <td>1.000000</td>\n",
       "      <td>0.009943</td>\n",
       "      <td>0.048686</td>\n",
       "      <td>-0.016270</td>\n",
       "      <td>0.021886</td>\n",
       "      <td>-0.012778</td>\n",
       "    </tr>\n",
       "    <tr>\n",
       "      <th>fl_site_deductible</th>\n",
       "      <td>0.002900</td>\n",
       "      <td>0.000281</td>\n",
       "      <td>0.007471</td>\n",
       "      <td>0.000446</td>\n",
       "      <td>-0.000050</td>\n",
       "      <td>0.007217</td>\n",
       "      <td>0.011547</td>\n",
       "      <td>-0.000389</td>\n",
       "      <td>0.009943</td>\n",
       "      <td>1.000000</td>\n",
       "      <td>-0.000134</td>\n",
       "      <td>0.000634</td>\n",
       "      <td>-0.002442</td>\n",
       "      <td>-0.002741</td>\n",
       "    </tr>\n",
       "    <tr>\n",
       "      <th>fr_site_deductible</th>\n",
       "      <td>-0.001846</td>\n",
       "      <td>-0.000235</td>\n",
       "      <td>0.000197</td>\n",
       "      <td>-0.000214</td>\n",
       "      <td>0.000570</td>\n",
       "      <td>0.000170</td>\n",
       "      <td>0.000335</td>\n",
       "      <td>-0.000092</td>\n",
       "      <td>0.048686</td>\n",
       "      <td>-0.000134</td>\n",
       "      <td>1.000000</td>\n",
       "      <td>-0.007415</td>\n",
       "      <td>0.005158</td>\n",
       "      <td>-0.003191</td>\n",
       "    </tr>\n",
       "    <tr>\n",
       "      <th>point_latitude</th>\n",
       "      <td>-0.003114</td>\n",
       "      <td>-0.001993</td>\n",
       "      <td>-0.024579</td>\n",
       "      <td>-0.001327</td>\n",
       "      <td>-0.008160</td>\n",
       "      <td>-0.023168</td>\n",
       "      <td>-0.028938</td>\n",
       "      <td>0.016045</td>\n",
       "      <td>-0.016270</td>\n",
       "      <td>0.000634</td>\n",
       "      <td>-0.007415</td>\n",
       "      <td>1.000000</td>\n",
       "      <td>-0.708585</td>\n",
       "      <td>0.084803</td>\n",
       "    </tr>\n",
       "    <tr>\n",
       "      <th>point_longitude</th>\n",
       "      <td>0.003450</td>\n",
       "      <td>0.005551</td>\n",
       "      <td>0.023827</td>\n",
       "      <td>0.006361</td>\n",
       "      <td>0.012174</td>\n",
       "      <td>0.023830</td>\n",
       "      <td>0.028259</td>\n",
       "      <td>0.002621</td>\n",
       "      <td>0.021886</td>\n",
       "      <td>-0.002442</td>\n",
       "      <td>0.005158</td>\n",
       "      <td>-0.708585</td>\n",
       "      <td>1.000000</td>\n",
       "      <td>-0.037129</td>\n",
       "    </tr>\n",
       "    <tr>\n",
       "      <th>point_granularity</th>\n",
       "      <td>0.007255</td>\n",
       "      <td>0.007615</td>\n",
       "      <td>0.003154</td>\n",
       "      <td>0.009814</td>\n",
       "      <td>0.007351</td>\n",
       "      <td>0.002521</td>\n",
       "      <td>-0.000905</td>\n",
       "      <td>-0.002699</td>\n",
       "      <td>-0.012778</td>\n",
       "      <td>-0.002741</td>\n",
       "      <td>-0.003191</td>\n",
       "      <td>0.084803</td>\n",
       "      <td>-0.037129</td>\n",
       "      <td>1.000000</td>\n",
       "    </tr>\n",
       "  </tbody>\n",
       "</table>\n",
       "</div>"
      ],
      "text/plain": [
       "                    policyID  eq_site_limit  hu_site_limit  fl_site_limit  \\\n",
       "policyID            1.000000      -0.005278      -0.010772      -0.005034   \n",
       "eq_site_limit      -0.005278       1.000000       0.888743       0.983463   \n",
       "hu_site_limit      -0.010772       0.888743       1.000000       0.883024   \n",
       "fl_site_limit      -0.005034       0.983463       0.883024       1.000000   \n",
       "fr_site_limit      -0.005077       0.973441       0.889365       0.985513   \n",
       "tiv_2011           -0.010144       0.866644       0.975598       0.863712   \n",
       "tiv_2012           -0.009881       0.786223       0.941141       0.779331   \n",
       "eq_site_deductible  0.011715       0.060976       0.053287       0.050601   \n",
       "hu_site_deductible  0.013628       0.073104       0.099763       0.054018   \n",
       "fl_site_deductible  0.002900       0.000281       0.007471       0.000446   \n",
       "fr_site_deductible -0.001846      -0.000235       0.000197      -0.000214   \n",
       "point_latitude     -0.003114      -0.001993      -0.024579      -0.001327   \n",
       "point_longitude     0.003450       0.005551       0.023827       0.006361   \n",
       "point_granularity   0.007255       0.007615       0.003154       0.009814   \n",
       "\n",
       "                    fr_site_limit  tiv_2011  tiv_2012  eq_site_deductible  \\\n",
       "policyID                -0.005077 -0.010144 -0.009881            0.011715   \n",
       "eq_site_limit            0.973441  0.866644  0.786223            0.060976   \n",
       "hu_site_limit            0.889365  0.975598  0.941141            0.053287   \n",
       "fl_site_limit            0.985513  0.863712  0.779331            0.050601   \n",
       "fr_site_limit            1.000000  0.873725  0.794160            0.049698   \n",
       "tiv_2011                 0.873725  1.000000  0.973050            0.051863   \n",
       "tiv_2012                 0.794160  0.973050  1.000000            0.065442   \n",
       "eq_site_deductible       0.049698  0.051863  0.065442            1.000000   \n",
       "hu_site_deductible       0.082239  0.097008  0.106189            0.501951   \n",
       "fl_site_deductible      -0.000050  0.007217  0.011547           -0.000389   \n",
       "fr_site_deductible       0.000570  0.000170  0.000335           -0.000092   \n",
       "point_latitude          -0.008160 -0.023168 -0.028938            0.016045   \n",
       "point_longitude          0.012174  0.023830  0.028259            0.002621   \n",
       "point_granularity        0.007351  0.002521 -0.000905           -0.002699   \n",
       "\n",
       "                    hu_site_deductible  fl_site_deductible  \\\n",
       "policyID                      0.013628            0.002900   \n",
       "eq_site_limit                 0.073104            0.000281   \n",
       "hu_site_limit                 0.099763            0.007471   \n",
       "fl_site_limit                 0.054018            0.000446   \n",
       "fr_site_limit                 0.082239           -0.000050   \n",
       "tiv_2011                      0.097008            0.007217   \n",
       "tiv_2012                      0.106189            0.011547   \n",
       "eq_site_deductible            0.501951           -0.000389   \n",
       "hu_site_deductible            1.000000            0.009943   \n",
       "fl_site_deductible            0.009943            1.000000   \n",
       "fr_site_deductible            0.048686           -0.000134   \n",
       "point_latitude               -0.016270            0.000634   \n",
       "point_longitude               0.021886           -0.002442   \n",
       "point_granularity            -0.012778           -0.002741   \n",
       "\n",
       "                    fr_site_deductible  point_latitude  point_longitude  \\\n",
       "policyID                     -0.001846       -0.003114         0.003450   \n",
       "eq_site_limit                -0.000235       -0.001993         0.005551   \n",
       "hu_site_limit                 0.000197       -0.024579         0.023827   \n",
       "fl_site_limit                -0.000214       -0.001327         0.006361   \n",
       "fr_site_limit                 0.000570       -0.008160         0.012174   \n",
       "tiv_2011                      0.000170       -0.023168         0.023830   \n",
       "tiv_2012                      0.000335       -0.028938         0.028259   \n",
       "eq_site_deductible           -0.000092        0.016045         0.002621   \n",
       "hu_site_deductible            0.048686       -0.016270         0.021886   \n",
       "fl_site_deductible           -0.000134        0.000634        -0.002442   \n",
       "fr_site_deductible            1.000000       -0.007415         0.005158   \n",
       "point_latitude               -0.007415        1.000000        -0.708585   \n",
       "point_longitude               0.005158       -0.708585         1.000000   \n",
       "point_granularity            -0.003191        0.084803        -0.037129   \n",
       "\n",
       "                    point_granularity  \n",
       "policyID                     0.007255  \n",
       "eq_site_limit                0.007615  \n",
       "hu_site_limit                0.003154  \n",
       "fl_site_limit                0.009814  \n",
       "fr_site_limit                0.007351  \n",
       "tiv_2011                     0.002521  \n",
       "tiv_2012                    -0.000905  \n",
       "eq_site_deductible          -0.002699  \n",
       "hu_site_deductible          -0.012778  \n",
       "fl_site_deductible          -0.002741  \n",
       "fr_site_deductible          -0.003191  \n",
       "point_latitude               0.084803  \n",
       "point_longitude             -0.037129  \n",
       "point_granularity            1.000000  "
      ]
     },
     "execution_count": 40,
     "metadata": {},
     "output_type": "execute_result"
    }
   ],
   "source": [
    "df.corr()     #corelation between all the variables"
   ]
  },
  {
   "cell_type": "code",
   "execution_count": 42,
   "metadata": {},
   "outputs": [
    {
     "data": {
      "text/plain": [
       "<AxesSubplot:>"
      ]
     },
     "execution_count": 42,
     "metadata": {},
     "output_type": "execute_result"
    },
    {
     "data": {
      "image/png": "[encoded data removed]",
      "text/plain": [
       "<Figure size 720x576 with 2 Axes>"
      ]
     },
     "metadata": {
      "needs_background": "light"
     },
     "output_type": "display_data"
    }
   ],
   "source": [
    "cor = df.corr()\n",
    "plt.figure(figsize=(10,8))\n",
    "sns.heatmap(cor)"
   ]
  },
  {
   "cell_type": "code",
   "execution_count": null,
   "metadata": {},
   "outputs": [],
   "source": []
  }
 ],
 "metadata": {
  "kernelspec": {
   "display_name": "Python 3",
   "language": "python",
   "name": "python3"
  },
  "language_info": {
   "codemirror_mode": {
    "name": "ipython",
    "version": 3
   },
   "file_extension": ".py",
   "mimetype": "text/x-python",
   "name": "python",
   "nbconvert_exporter": "python",
   "pygments_lexer": "ipython3",
   "version": "3.8.5"
  }
 },
 "nbformat": 4,
 "nbformat_minor": 4
}
